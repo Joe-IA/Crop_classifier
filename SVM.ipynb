{
 "cells": [
  {
   "cell_type": "markdown",
   "id": "2bc743f0",
   "metadata": {},
   "source": [
    "## Importamos las librerias con las que vamos a trabajar"
   ]
  },
  {
   "cell_type": "code",
   "execution_count": 19,
   "id": "0c618961",
   "metadata": {},
   "outputs": [],
   "source": [
    "import pandas as pd\n",
    "from sklearn.model_selection import train_test_split, cross_val_score, GridSearchCV\n",
    "from sklearn.preprocessing import LabelEncoder\n",
    "from sklearn.svm import SVC\n",
    "from sklearn.metrics import accuracy_score, classification_report\n",
    "import numpy as np"
   ]
  },
  {
   "cell_type": "code",
   "execution_count": 20,
   "id": "31164951",
   "metadata": {},
   "outputs": [],
   "source": [
    "# 1) Cargar el dataset desde CSV\n",
    "df = pd.read_csv(\"Crop_recommendation.csv\")\n",
    "\n",
    "# 2) Separar características (X) y etiqueta (y)\n",
    "#    Asumiendo que las columnas son: N, P, K, temperature, humidity, ph, rainfall, label\n",
    "X = df[[\"N\", \"P\", \"K\", \"temperature\", \"humidity\", \"ph\", \"rainfall\"]]\n",
    "y = df[\"label\"]\n",
    "\n",
    "# 3) Convertir las etiquetas (strings de cultivos) a números\n",
    "label_encoder = LabelEncoder()\n",
    "y_encoded = label_encoder.fit_transform(y)"
   ]
  },
  {
   "cell_type": "code",
   "execution_count": 21,
   "id": "1481c2ef",
   "metadata": {},
   "outputs": [],
   "source": [
    "# 4) División 70 % entrenamiento / 30 % prueba (estratificada para mantener proporción de clases)\n",
    "X_train, X_test, y_train, y_test = train_test_split(\n",
    "    X,\n",
    "    y_encoded,\n",
    "    test_size=0.30,\n",
    "    random_state=42,\n",
    "    stratify=y_encoded\n",
    ")"
   ]
  },
  {
   "cell_type": "code",
   "execution_count": 22,
   "id": "e8a002bc",
   "metadata": {},
   "outputs": [],
   "source": [
    "# 5) Definir dos clasificadores SVM multiclasé:\n",
    "#    - Uno con kernel LINEAL\n",
    "#    - Otro con kernel RBF\n",
    "svm_linear = SVC(kernel=\"linear\", random_state=42)\n",
    "svm_rbf    = SVC(kernel=\"rbf\", random_state=42)"
   ]
  },
  {
   "cell_type": "code",
   "execution_count": 23,
   "id": "05def7d3",
   "metadata": {},
   "outputs": [
    {
     "name": "stdout",
     "output_type": "stream",
     "text": [
      "=== Validación Cruzada (5‐fold) en datos de ENTRENAMIENTO ===\n",
      "\n",
      "SVM LINEAL:\n",
      " Scores por fold:        [0.98051948 0.98376623 0.98051948 0.98051948 0.98051948]\n",
      " Media de accuracy:     0.9812\n",
      " Desviación estándar:   0.0013\n",
      "\n",
      "SVM RBF:\n",
      " Scores por fold:        [0.98376623 0.96103896 0.97077922 0.97077922 0.96753247]\n",
      " Media de accuracy:     0.9708\n",
      " Desviación estándar:   0.0074\n",
      "\n",
      "============================================================\n",
      "\n"
     ]
    }
   ],
   "source": [
    "# 6) Validación cruzada (cv=5) sobre el conjunto de entrenamiento\n",
    "#    Usamos cross_val_score para obtener las puntuaciones en 5 folds\n",
    "cv_scores_linear = cross_val_score(svm_linear, X_train, y_train, cv=5)\n",
    "cv_scores_rbf    = cross_val_score(svm_rbf,    X_train, y_train, cv=5)\n",
    "\n",
    "print(\"=== Validación Cruzada (5‐fold) en datos de ENTRENAMIENTO ===\\n\")\n",
    "\n",
    "print(\"SVM LINEAL:\")\n",
    "print(\" Scores por fold:       \", cv_scores_linear)\n",
    "print(\" Media de accuracy:     {:.4f}\".format(cv_scores_linear.mean()))\n",
    "print(\" Desviación estándar:   {:.4f}\".format(cv_scores_linear.std()))\n",
    "print()\n",
    "\n",
    "print(\"SVM RBF:\")\n",
    "print(\" Scores por fold:       \", cv_scores_rbf)\n",
    "print(\" Media de accuracy:     {:.4f}\".format(cv_scores_rbf.mean()))\n",
    "print(\" Desviación estándar:   {:.4f}\".format(cv_scores_rbf.std()))\n",
    "print(\"\\n\" + \"=\"*60 + \"\\n\")"
   ]
  },
  {
   "cell_type": "code",
   "execution_count": null,
   "id": "5456f7a8",
   "metadata": {},
   "outputs": [
    {
     "name": "stdout",
     "output_type": "stream",
     "text": [
      "Mejor gamma encontrado: 0.001\n",
      "Mejor puntuación (accuracy media CV): 0.9844\n"
     ]
    }
   ],
   "source": [
    "# Definir el rango de valores para gamma\n",
    "param_grid = {\n",
    "    'gamma': [0.001, 0.01, 0.1, 1, 10]\n",
    "}\n",
    "\n",
    "# GridSearchCV con validación cruzada de 5 folds\n",
    "grid_search = GridSearchCV(estimator=svm_rbf, param_grid=param_grid, cv=5, scoring='accuracy', n_jobs=-1)\n",
    "\n",
    "# Ajustar en los datos de entrenamiento\n",
    "grid_search.fit(X_train, y_train)\n",
    "\n",
    "# Mostrar el mejor valor de gamma\n",
    "print(\"Mejor gamma encontrado:\", grid_search.best_params_['gamma'])\n",
    "print(\"Mejor puntuación (accuracy media CV): {:.4f}\".format(grid_search.best_score_))"
   ]
  },
  {
   "cell_type": "code",
   "execution_count": 25,
   "id": "90dac4dd",
   "metadata": {},
   "outputs": [],
   "source": [
    "# 7) Entrenar cada modelo con TODO el set de entrenamiento\n",
    "svm_linear.fit(X_train, y_train)\n",
    "best_svm_rbf = grid_search.best_estimator_"
   ]
  },
  {
   "cell_type": "code",
   "execution_count": 26,
   "id": "b6acede2",
   "metadata": {},
   "outputs": [],
   "source": [
    "# 8) Hacer predicción sobre el conjunto de prueba (30 %)\n",
    "y_pred_linear = svm_linear.predict(X_test)\n",
    "y_pred_rbf    = best_svm_rbf.predict(X_test)"
   ]
  },
  {
   "cell_type": "code",
   "execution_count": 27,
   "id": "dfc0d78b",
   "metadata": {},
   "outputs": [],
   "source": [
    "# 9) Calcular accuracy en prueba\n",
    "accuracy_linear = accuracy_score(y_test, y_pred_linear)\n",
    "accuracy_rbf    = accuracy_score(y_test, y_pred_rbf)"
   ]
  },
  {
   "cell_type": "code",
   "execution_count": 28,
   "id": "858a2700",
   "metadata": {},
   "outputs": [
    {
     "name": "stdout",
     "output_type": "stream",
     "text": [
      "=== Resultados en CONJUNTO de PRUEBA (30 %) ===\n",
      "\n",
      "SVM LINEAL: Test Accuracy = 0.9894\n",
      "SVM RBF:    Test Accuracy = 0.9894\n",
      "\n",
      "============================================================\n",
      "\n",
      "Reporte de clasificación para SVM LINEAL:\n",
      "\n",
      "              precision    recall  f1-score   support\n",
      "\n",
      "       apple       1.00      1.00      1.00        30\n",
      "      banana       1.00      1.00      1.00        30\n",
      "   blackgram       0.94      1.00      0.97        30\n",
      "    chickpea       1.00      1.00      1.00        30\n",
      "     coconut       1.00      1.00      1.00        30\n",
      "      coffee       1.00      1.00      1.00        30\n",
      "      cotton       0.94      1.00      0.97        30\n",
      "      grapes       1.00      1.00      1.00        30\n",
      "        jute       0.91      1.00      0.95        30\n",
      " kidneybeans       1.00      1.00      1.00        30\n",
      "      lentil       1.00      1.00      1.00        30\n",
      "       maize       1.00      0.93      0.97        30\n",
      "       mango       1.00      1.00      1.00        30\n",
      "   mothbeans       1.00      0.93      0.97        30\n",
      "    mungbean       1.00      1.00      1.00        30\n",
      "   muskmelon       1.00      1.00      1.00        30\n",
      "      orange       1.00      1.00      1.00        30\n",
      "      papaya       1.00      1.00      1.00        30\n",
      "  pigeonpeas       1.00      1.00      1.00        30\n",
      " pomegranate       1.00      1.00      1.00        30\n",
      "        rice       1.00      0.90      0.95        30\n",
      "  watermelon       1.00      1.00      1.00        30\n",
      "\n",
      "    accuracy                           0.99       660\n",
      "   macro avg       0.99      0.99      0.99       660\n",
      "weighted avg       0.99      0.99      0.99       660\n",
      "\n",
      "Reporte de clasificación para SVM RBF:\n",
      "\n",
      "              precision    recall  f1-score   support\n",
      "\n",
      "       apple       1.00      1.00      1.00        30\n",
      "      banana       1.00      1.00      1.00        30\n",
      "   blackgram       1.00      1.00      1.00        30\n",
      "    chickpea       1.00      1.00      1.00        30\n",
      "     coconut       1.00      1.00      1.00        30\n",
      "      coffee       1.00      1.00      1.00        30\n",
      "      cotton       0.97      1.00      0.98        30\n",
      "      grapes       1.00      1.00      1.00        30\n",
      "        jute       0.83      1.00      0.91        30\n",
      " kidneybeans       1.00      1.00      1.00        30\n",
      "      lentil       1.00      1.00      1.00        30\n",
      "       maize       1.00      0.97      0.98        30\n",
      "       mango       1.00      1.00      1.00        30\n",
      "   mothbeans       1.00      1.00      1.00        30\n",
      "    mungbean       1.00      1.00      1.00        30\n",
      "   muskmelon       1.00      1.00      1.00        30\n",
      "      orange       1.00      1.00      1.00        30\n",
      "      papaya       1.00      1.00      1.00        30\n",
      "  pigeonpeas       1.00      1.00      1.00        30\n",
      " pomegranate       1.00      1.00      1.00        30\n",
      "        rice       1.00      0.80      0.89        30\n",
      "  watermelon       1.00      1.00      1.00        30\n",
      "\n",
      "    accuracy                           0.99       660\n",
      "   macro avg       0.99      0.99      0.99       660\n",
      "weighted avg       0.99      0.99      0.99       660\n",
      "\n"
     ]
    }
   ],
   "source": [
    "print(\"=== Resultados en CONJUNTO de PRUEBA (30 %) ===\\n\")\n",
    "print(f\"SVM LINEAL: Test Accuracy = {accuracy_linear:.4f}\")\n",
    "print(f\"SVM RBF:    Test Accuracy = {accuracy_rbf:.4f}\")\n",
    "print(\"\\n\" + \"=\"*60 + \"\\n\")\n",
    "\n",
    "# 10) Mostrar reporte de clasificación (precision / recall / f1-score) para cada kernel\n",
    "print(\"Reporte de clasificación para SVM LINEAL:\\n\")\n",
    "print(classification_report(\n",
    "    y_test, \n",
    "    y_pred_linear, \n",
    "    target_names=label_encoder.classes_,\n",
    "    zero_division=0\n",
    "))\n",
    "\n",
    "print(\"Reporte de clasificación para SVM RBF:\\n\")\n",
    "print(classification_report(\n",
    "    y_test, \n",
    "    y_pred_rbf, \n",
    "    target_names=label_encoder.classes_,\n",
    "    zero_division=0\n",
    "))"
   ]
  }
 ],
 "metadata": {
  "kernelspec": {
   "display_name": "base",
   "language": "python",
   "name": "python3"
  },
  "language_info": {
   "codemirror_mode": {
    "name": "ipython",
    "version": 3
   },
   "file_extension": ".py",
   "mimetype": "text/x-python",
   "name": "python",
   "nbconvert_exporter": "python",
   "pygments_lexer": "ipython3",
   "version": "3.12.3"
  }
 },
 "nbformat": 4,
 "nbformat_minor": 5
}
